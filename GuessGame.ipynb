{
 "cells": [
  {
   "cell_type": "code",
   "execution_count": null,
   "id": "6d3a7946",
   "metadata": {},
   "outputs": [
    {
     "name": "stdout",
     "output_type": "stream",
     "text": [
      "what is your name! Mahesh\n",
      "good luck !  Mahesh\n",
      "Guess words\n",
      "--\n",
      "--\n",
      "--\n",
      "--\n",
      "--\n"
     ]
    }
   ],
   "source": [
    "import random\n",
    "name = input(\"what is your name! \")\n",
    "print(\"good luck ! \",name)\n",
    "words = ['rainbow', 'computer', 'science', \n",
    "         'programming', 'python', 'mathematics', 'player', \n",
    "         'condition', 'reverse', 'water', 'board', 'geeks'] \n",
    "word = random.choice(words)\n",
    "print(\"Guess words\")\n",
    "guesses=\"\"\n",
    "turns=15\n",
    "while turns>0:\n",
    "    failed=0\n",
    "    for char in word:\n",
    "        if char in guesses:\n",
    "            print(char)\n",
    "        else:\n",
    "            print(\"--\")\n",
    "            failed+=1\n",
    "    if failed==0:\n",
    "        print(\"you win\")\n",
    "        print(\"The Word is :\",word)\n",
    "        break\n",
    "    guess=input(\"guess a character\")\n",
    "    guesses+=guess\n",
    "    if guess not in word:\n",
    "        turns-=1\n",
    "        print(\"wrong\")\n",
    "        print(\"you have \",+ turns,\"more guesses\")\n",
    "    if turns==0:\n",
    "        print(\"you loose\")\n",
    "    "
   ]
  },
  {
   "cell_type": "code",
   "execution_count": null,
   "id": "2496510b",
   "metadata": {},
   "outputs": [],
   "source": []
  }
 ],
 "metadata": {
  "kernelspec": {
   "display_name": "Python 3 (ipykernel)",
   "language": "python",
   "name": "python3"
  },
  "language_info": {
   "codemirror_mode": {
    "name": "ipython",
    "version": 3
   },
   "file_extension": ".py",
   "mimetype": "text/x-python",
   "name": "python",
   "nbconvert_exporter": "python",
   "pygments_lexer": "ipython3",
   "version": "3.9.12"
  }
 },
 "nbformat": 4,
 "nbformat_minor": 5
}
